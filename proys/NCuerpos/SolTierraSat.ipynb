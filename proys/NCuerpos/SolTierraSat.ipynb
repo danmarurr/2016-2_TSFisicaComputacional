{
 "cells": [
  {
   "cell_type": "markdown",
   "metadata": {},
   "source": [
    "# El Problema de los Tres Cuerpos\n",
    "Por: Daniel Martínez y Fernanda Pérez\n",
    "\n",
    "### 1. Introducción\n",
    "\n",
    "Uno de los problemas físicos que continúan abiertos hasta la actualidad es el *problema de los tres cuerpos*, que consiste en resolver las ecuaciones de movimiento de tres cuerpos sometidos a sus campos gravitacionales. El carácter irresoluble de las ecuaciones hizo que durante 300 años físicos y matemáticos intensaen encontrar una solución en términos de funciones fundamentales, pero tal cosa nunca ocurrió. \n",
    "\n",
    "Newton ofreció, en 1665, una solución aproximada al sistema formado por la Tierra, la Luna y el Sol. Sus conclusiones concordaban con los datos experimentales en un 92%. Euler (1767) y Lagrange (1772) hicieron lo propio aportando soluciones particulares al problema general.\n",
    "\n",
    "### 2. Ecuaciones de Movimiento\n",
    "\n",
    "Las ecucaciones de movimiento se reescriben como un sistema de ecuaciones de segundo orden acopladas:\n",
    "\n",
    "$\\dot{\\vec{x_1}} = \\vec{v_1}$\n",
    "\n",
    "$\\dot{\\vec{x_2}} = \\vec{v_2}$\n",
    "\n",
    "$\\dot{\\vec{x_3}} = \\vec{v_3}$\n",
    "\n",
    "$\\dot{\\vec{v_1}} = G \\frac{m_2}{||\\vec{x_1} - \\vec{x_2}||^3} (\\vec{x_1} - \\vec{x_2})  + G \\frac{m_3}{||\\vec{x_1} - \\vec{x_3}||^3} (\\vec{x_1} - \\vec{x_3}) $\n",
    "\n",
    "$\\dot{\\vec{v_2}} = G \\frac{m_1}{||\\vec{x_2} - \\vec{x_1}||^3} (\\vec{x_2} - \\vec{x_1})  + G \\frac{m_3}{||\\vec{x_2} - \\vec{x_3}||^3} (\\vec{x_2} - \\vec{x_3}) $\n",
    "\n",
    "$\\dot{\\vec{v_3}} = G \\frac{m_1}{||\\vec{x_1} - \\vec{x_3}||^3} (\\vec{x_1} - \\vec{x_3})  + G \\frac{m_2}{||\\vec{x_3} - \\vec{x_2}||^3} (\\vec{x_3} - \\vec{x_2}) $\n",
    "\n",
    "Como método de integración, elegimos una versión modificada del Método de Taylor, valiéndonos de la paquetería ```TaylorSeries.jl```. Todo ha sido escrito en un archivo adicional llamado ```ProyectoFinal.jl```, donde se incluyen funciones necesarias para las animaciones.\n",
    "\n",
    "### 3.  Órbitas Periódicas\n",
    "\n",
    "Para la resolución de las ecuaciones de movimiento, se eligieron sets de condiciones iniciales. Posteriormente se hicieron variaciones pequeñas de una condición inicial (por ejemplo la velocidad de arranque del tercer cuerpo) y se dispusieron en un gráfico coloreado según su valor. Del patrón de posiciones hallados en los gráficos, se eligieron los valores iniciales que consideramos contruían una trayectoria \"estable\" al rededor del sistema, para realizar una animación.\n",
    "\n",
    "### 4.  Cálculo de la Energía\n",
    "\n",
    "Como una estimación de la energía del sistema, la cual está dada por.\n",
    "\n",
    "$$ E_t = \\sum_{j=1}^{3}E_j$$\n",
    "\n",
    "donde cada energía está dada por:\n",
    "\n",
    "$$ E_j = \\frac{1}{2}mv_j^2 - \\sum_{k\\neq j}\\frac{Gm_jm_k}{|r_k - r_j|}$$\n",
    "\n",
    "\n"
   ]
  },
  {
   "cell_type": "code",
   "execution_count": 3,
   "metadata": {
    "collapsed": false
   },
   "outputs": [
    {
     "name": "stdout",
     "output_type": "stream",
     "text": [
      "Aqui si\n"
     ]
    },
    {
     "data": {
      "text/plain": [
       "Integrador_Restringido (generic function with 2 methods)"
      ]
     },
     "execution_count": 3,
     "metadata": {},
     "output_type": "execute_result"
    }
   ],
   "source": [
    "include(\"ProyectoFinal.jl\") #Importamos las funciones que escribimos"
   ]
  },
  {
   "cell_type": "code",
   "execution_count": null,
   "metadata": {
    "collapsed": false
   },
   "outputs": [],
   "source": [
    "x2T = zeros(Float64, 5)\n",
    "xT = Taylor1([2, 4, 5,1])\n",
    "x2T[2] = TaylorSeries.squareHomogCoef(1, xT.coeffs)"
   ]
  },
  {
   "cell_type": "markdown",
   "metadata": {},
   "source": [
    "## Observaciones en configuración triangular\n",
    "\n",
    "Antes, tomemos el ejemplo más sencillo, tres partículas con la misma masa en una circunferencia unitaria y equdistantes, con esto notaremos si el integrador funciona realizando pequeños cálculos de energía y momento angular."
   ]
  },
  {
   "cell_type": "code",
   "execution_count": null,
   "metadata": {
    "collapsed": false
   },
   "outputs": [],
   "source": [
    "norm([-2.5,4.330127018922193])"
   ]
  },
  {
   "cell_type": "code",
   "execution_count": null,
   "metadata": {
    "collapsed": false
   },
   "outputs": [],
   "source": [
    "#Tambien probamos si nuestra función CalculaCM obtiene una configuración tal que el centro de masa quede en el \n",
    "#origen\n",
    "Cuerpo1 = [1., 5.0, 0.0,0., 0.,-1.,0.]\n",
    "Cuerpo2 = [1, -2.5,5*sqrt(3)/2,0., sqrt(3)/2, 0.5,0.]\n",
    "CondicionesIniciales1 = CalculaCM(Cuerpo1, Cuerpo2, 1.)"
   ]
  },
  {
   "cell_type": "code",
   "execution_count": null,
   "metadata": {
    "collapsed": false
   },
   "outputs": [],
   "source": [
    "#Ahora usamos el integrador para obtener la solución numérica posteriormente crear una animación\n",
    "time, C1, C2, C3 = Integrador3(CondicionesIniciales1, 200.)\n",
    "anima3C(C1, C2, C3, \"AnimPrueba\", 1)\n",
    "muestra_animacion(\"AnimPrueba\")"
   ]
  },
  {
   "cell_type": "code",
   "execution_count": null,
   "metadata": {
    "collapsed": false
   },
   "outputs": [],
   "source": [
    "#Ahora, calculemos la energía del sistema a cada paso del tiempo y grafiquemos el error absoluto con respecto al \n",
    "#valor de energía para la condición inicial\n",
    "\n",
    "#Calcula la energía\n",
    "EC = Energia_3(C1, C2, C3, [1.,1.,1.])\n",
    "ΔEC = Float64[abs(x - EC[1]) for x in EC]\n",
    "figure(figsize = (5,5))\n",
    "plot(ΔEC)\n",
    "title(\"Error absoluto de energía\")\n",
    "xlabel(L\"t_{step}\")\n",
    "ylabel(L\"\\Delta E\")\n",
    "show()"
   ]
  },
  {
   "cell_type": "code",
   "execution_count": null,
   "metadata": {
    "collapsed": false
   },
   "outputs": [],
   "source": [
    "#Ahora, hagamos lo mismo con el momento angular\n",
    "\n",
    "AM = Angular_3(C1, C2, C3, [1.,1.,1.])\n",
    "ΔAM = Float64[abs(x[3] - AM[1][3]) for x in AM]\n",
    "figure(figsize = (5,5))\n",
    "plot(ΔAM)\n",
    "title(\"Error absoluto de L_z\")\n",
    "xlabel(L\"t_{step}\")\n",
    "ylabel(L\"\\Delta L_z\")\n",
    "show()"
   ]
  },
  {
   "cell_type": "markdown",
   "metadata": {},
   "source": [
    "Hasta ahora todo marcha bien, pues los errores absolutos de la energía y del momento son del orden de $\\sim 10^{-14}$, ahora hagamos barridos sobre distintas condiciones iniciales, cambiando uno de los parámetros."
   ]
  },
  {
   "cell_type": "code",
   "execution_count": 4,
   "metadata": {
    "collapsed": false
   },
   "outputs": [
    {
     "data": {
      "text/plain": [
       "3-element Array{Array{Float64,1},1}:\n",
       " [1.0,0.97000436,-0.24308753,0.0,0.46620369,0.43236573,0.0]\n",
       " [1.0,0.0,0.0,0.0,-0.93240737,-0.86473146,0.0]             \n",
       " [1.0,-0.97000436,0.24308753,0.0,0.46620369,0.43236573,0.0]"
      ]
     },
     "execution_count": 4,
     "metadata": {},
     "output_type": "execute_result"
    }
   ],
   "source": [
    "#Tambien probamos si nuestra función CalculaCM obtiene una configuración tal que el centro de masa quede en el \n",
    "#origen, esta configuración es la de un ocho\"\n",
    "Cuerpo12 = [1., 0.97000436, -0.24308753,0., 0.46620369, 0.43236573,0.]\n",
    "Cuerpo22 = [1., 0.,0.,0., -0.93240737, -0.86473146,0.]\n",
    "Cuerpo32 = [1., -0.97000436,0.24308753,0., 0.46620369, 0.43236573,0.]\n",
    "CondicionesIniciales2 = typeof(Cuerpo12)[Cuerpo12, Cuerpo22, Cuerpo32]\n",
    "\n"
   ]
  },
  {
   "cell_type": "code",
   "execution_count": 5,
   "metadata": {
    "collapsed": false
   },
   "outputs": [
    {
     "data": {
      "text/plain": [
       "915"
      ]
     },
     "execution_count": 5,
     "metadata": {},
     "output_type": "execute_result"
    }
   ],
   "source": [
    "time2, C12, C22, C32 = Integrador3(CondicionesIniciales2, 100.)\n",
    "length(time2)"
   ]
  },
  {
   "cell_type": "code",
   "execution_count": 6,
   "metadata": {
    "collapsed": false
   },
   "outputs": [],
   "source": [
    "C12p = [C12[1][j] for j in 1:50]\n",
    "C22p = [C22[1][j] for j in 1:50]\n",
    "C32p = [C32[1][j] for j in 1:50]\n",
    "C12v = [C12[2][j] for j in 1:50]\n",
    "C22v = [C22[2][j] for j in 1:50]\n",
    "C32v = [C32[2][j] for j in 1:50]\n",
    "C12T = typeof(C12p)[C12p, C12v]\n",
    "C22T = typeof(C12p)[C22p, C22v]\n",
    "C32T = typeof(C12p)[C32p, C32v];"
   ]
  },
  {
   "cell_type": "code",
   "execution_count": 7,
   "metadata": {
    "collapsed": false
   },
   "outputs": [
    {
     "data": {
      "text/html": [
       "<video autoplay controls><source src=\"data:video/x-m4v;base64,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\" type=\"video/mp4\"></video>"
      ]
     },
     "metadata": {},
     "output_type": "display_data"
    },
    {
     "name": "stderr",
     "output_type": "stream",
     "text": [
      "WARNING: [a] concatenation is deprecated; use collect(a) instead\n",
      " in depwarn at deprecated.jl:73\n",
      " in oldstyle_vcat_warning at ./abstractarray.jl:29\n",
      " in vect at abstractarray.jl:32\n",
      " in anima3C at /home/daniel/Documentos/2016-2_TSFisicaComputacional/proys/NCuerpos/ProyectoFinal.jl:22\n",
      " in include_string at loading.jl:282\n",
      " in execute_request_0x535c5df2 at /home/daniel/.julia/v0.4/IJulia/src/execute_request.jl:182\n",
      " in eventloop at /home/daniel/.julia/v0.4/IJulia/src/IJulia.jl:142\n",
      " in anonymous at task.jl:447\n",
      "while loading In[7], in expression starting on line 2\n",
      "WARNING: [a] concatenation is deprecated; use collect(a) instead\n",
      " in depwarn at deprecated.jl:73\n",
      " in oldstyle_vcat_warning at ./abstractarray.jl:29\n",
      " in vect at abstractarray.jl:32\n",
      " in anima3C at /home/daniel/Documentos/2016-2_TSFisicaComputacional/proys/NCuerpos/ProyectoFinal.jl:22\n",
      " in include_string at loading.jl:282\n",
      " in execute_request_0x535c5df2 at /home/daniel/.julia/v0.4/IJulia/src/execute_request.jl:182\n",
      " in eventloop at /home/daniel/.julia/v0.4/IJulia/src/IJulia.jl:142\n",
      " in anonymous at task.jl:447\n",
      "while loading In[7], in expression starting on line 2\n"
     ]
    },
    {
     "data": {
      "image/png": "[encoded data removed]",
      "text/plain": [
       "PyPlot.Figure(PyObject <matplotlib.figure.Figure object at 0x7f1342ad6f98>)"
      ]
     },
     "metadata": {},
     "output_type": "display_data"
    }
   ],
   "source": [
    "#Ahora usamos el integrador para obtener la solución numérica posteriormente crear una animación\n",
    "anima3C(C12T, C22T, C32T, \"AnimPrueba3\", 1)\n",
    "muestra_animacion(\"AnimPrueba3\")"
   ]
  },
  {
   "cell_type": "code",
   "execution_count": null,
   "metadata": {
    "collapsed": false
   },
   "outputs": [],
   "source": [
    "EnergiaTriangulos = []\n",
    "AngularMomentum = []\n",
    "Posiciones =[]\n",
    "Velocidades = []\n",
    "intervalo = collect(-0.2:0.01:0.2)\n",
    "prueba1_masas = [1., 1., 1.]\n",
    "for x in intervalo\n",
    "    Cuerpo1 = [1., 1.0, 0.0,0., 0.,-1.,0.]\n",
    "    Cuerpo2 = [1, -0.5,sqrt(3)/2,0., sqrt(3)/2 + x, 0.5,0.]\n",
    "    CondicionesIniciales1 = CalculaCM(Cuerpo1, Cuerpo2, 1.)\n",
    "    \n",
    "    ts1, c11, c21, c31 = Integrador3(CondicionesIniciales1, 400.)\n",
    "    E = Energia_3(c11,c21,c31, prueba1_masas)\n",
    "    L = Angular_3(c11,c21,c31, prueba1_masas)\n",
    "    push!(EnergiaTriangulos, E)\n",
    "    push!(AngularMomentum, L)\n",
    "    Temp = typeof(c11[1])[c11[1],c21[1],c31[1]]\n",
    "    Temp2 = typeof(c11[2])[c11[2],c21[2],c31[2]]\n",
    "    push!(Velocidades, Temp2)\n",
    "    push!(Posiciones, Temp)\n",
    "end"
   ]
  },
  {
   "cell_type": "code",
   "execution_count": null,
   "metadata": {
    "collapsed": false
   },
   "outputs": [],
   "source": [
    "abs(EnergiaTriangulos[1][1] - EnergiaTriangulos[1][2])"
   ]
  },
  {
   "cell_type": "code",
   "execution_count": null,
   "metadata": {
    "collapsed": false
   },
   "outputs": [],
   "source": [
    "ΔE = []\n",
    "ΔL = []\n",
    "#Rutina para calcular errores absolutos\n",
    "for j in 1:length(EnergiaTriangulos)\n",
    "    E0 = EnergiaTriangulos[j][1]\n",
    "    \n",
    "    temp = Float64[abs(E0 - x) for x in EnergiaTriangulos[j]]\n",
    "    push!(ΔE, temp)\n",
    "    \n",
    "    L0 = AngularMomentum[j][1]\n",
    "    temp2 = Float64[norm(L0 - x) for x in AngularMomentum[j]]\n",
    "    push!(ΔL, temp2)\n",
    "end"
   ]
  },
  {
   "cell_type": "code",
   "execution_count": null,
   "metadata": {
    "collapsed": false
   },
   "outputs": [],
   "source": [
    "figure(figsize = (10,10))\n",
    "for j in 19:23\n",
    "    subplot(5,1,(j - 18))\n",
    "    plot(ΔE[j])\n",
    "    ylabel(L\"\\Delta E\")\n",
    "end"
   ]
  },
  {
   "cell_type": "code",
   "execution_count": null,
   "metadata": {
    "collapsed": false
   },
   "outputs": [],
   "source": [
    "figure(figsize = (10,10))\n",
    "for j in 19:23\n",
    "    subplot(5,1,(j - 18))\n",
    "    plot(ΔL[j])\n",
    "    ylabel(L\"\\Delta L_z\")\n",
    "end"
   ]
  },
  {
   "cell_type": "code",
   "execution_count": null,
   "metadata": {
    "collapsed": false
   },
   "outputs": [],
   "source": [
    "(Taylor1([1, 2, 3]) - Taylor1([3, 2, 4]))^2 == (Taylor1([3, 2, 4]) - Taylor1([1, 2, 3]))^2"
   ]
  },
  {
   "cell_type": "code",
   "execution_count": null,
   "metadata": {
    "collapsed": false
   },
   "outputs": [],
   "source": [
    "(Taylor1([1, 2, 3]) - Taylor1([3, 2, 4]))^2"
   ]
  },
  {
   "cell_type": "markdown",
   "metadata": {},
   "source": [
    "## Sistema Sol - Tierra - Luna\n",
    "\n",
    "Para el sistema de 3 cuerpos formado por el Sol, la Tierra y la Luna, consideramos una posición inicial colineal, con las distancias equivalentes a las distancias astronómicas reportadas.\n",
    "\n",
    "Usamos también datos concernientes a las masas."
   ]
  },
  {
   "cell_type": "code",
   "execution_count": null,
   "metadata": {
    "collapsed": false
   },
   "outputs": [],
   "source": [
    "MasaSol = 1. #En Unidades Astronomicas\n",
    "#MasaTierra = 0.0003015\n",
    "#MasaLuna = 0.00000037\n",
    "MasaTierra = 3.3e-5\n",
    "MasaLuna = 2.7e-7\n",
    "\n",
    "Distancia_TierraSol = 1.\n",
    "Distancia_TierraLuna = 0.002577181\n",
    "Distancia_LunaSol_inicial= Distancia_TierraSol + Distancia_TierraLuna\n",
    "\n",
    "VelocidadTraslacional_TierraSol = 1.\n",
    "VelocidadTraslacional_TierraLuna = 0.002\n",
    "VelocidadLuna_inicial = VelocidadTraslacional_TierraSol + VelocidadTraslacional_TierraLuna\n",
    "\n",
    "PosicionInicialSol = [0., 0., 0.]\n",
    "PosicionInicialTierra = [Distancia_TierraSol, 0., 0.]\n",
    "PosicionInicialLuna = [Distancia_LunaSol_inicial, 0., 0.] ;"
   ]
  },
  {
   "cell_type": "code",
   "execution_count": null,
   "metadata": {
    "collapsed": false
   },
   "outputs": [],
   "source": [
    "#Funcion que agrupa condiciones iniciales para pasarlas al integrador\n",
    "function iniciar(masa, posiciones, velocidades)\n",
    "    condiciones = [masa, posiciones[1], posiciones[2], posiciones[3], velocidades[1], velocidades[2], velocidades[3]]\n",
    "    return condiciones\n",
    "end"
   ]
  },
  {
   "cell_type": "code",
   "execution_count": null,
   "metadata": {
    "collapsed": false
   },
   "outputs": [],
   "source": [
    "#Condiciones Iniciales\n",
    "\n",
    "\n",
    "CondicionesTierra = iniciar(MasaTierra, PosicionInicialTierra, [0., VelocidadTraslacional_TierraSol, 0.])\n",
    "CondicionesLuna   = iniciar(MasaLuna, PosicionInicialLuna, [0., VelocidadLuna_inicial, 0.])\n",
    "\n",
    "\n",
    "\n",
    "#Agrupamos Todo\n",
    "\n",
    "CondicionesIniciales = CalculaCM(CondicionesTierra, CondicionesLuna, MasaSol)"
   ]
  },
  {
   "cell_type": "code",
   "execution_count": null,
   "metadata": {
    "collapsed": false
   },
   "outputs": [],
   "source": [
    "#importamos colores y hacemos un color map que disntiguira a nuestro tercer cuerpo: la Luna\n",
    "\n",
    "using Colors"
   ]
  },
  {
   "cell_type": "markdown",
   "metadata": {},
   "source": [
    "#### Vamos a variar las condiciones de la velocidad inicial del Satélite, en el eje Y.\n",
    "#### Para ello, graficamos las coordenadas obtenidas en X y en Y, asignándoles un colorsegún el parámetro del cual provengan. (El círculo azul marino oscuro al centro corresponde a las posiciones del segundo cuerpo, la Tierra. Como es de esperarse orbita al rededor del Sol."
   ]
  },
  {
   "cell_type": "code",
   "execution_count": null,
   "metadata": {
    "collapsed": false
   },
   "outputs": [],
   "source": [
    "par = [3.0:-0.05:0.0] #definimos un parámetro de variación\n",
    "paleta_luna = colormap(\"RdBu\", length(par))\n",
    "\n",
    "fig = figure(\"Title of Window\",figsize=(16,16))\n",
    "for i in 1:length(par)\n",
    "    \n",
    "    CondicionesLuna = iniciar(MasaLuna, PosicionInicialLuna, [0., VelocidadTraslacional_TierraSol+par[i], 0.])\n",
    "    CondicionesIniciales = CalculaCM(CondicionesTierra, CondicionesLuna, MasaSol)\n",
    "    t, Cuerpo1, Cuerpo2, Cuerpo3 = Integrador3(CondicionesIniciales, 1000.)\n",
    "    \n",
    "    Px1 = [pos[1] for pos in Cuerpo1[1]] \n",
    "    Px2 = [pos[1] for pos in Cuerpo2[1]]\n",
    "    Px3 = [pos[1] for pos in Cuerpo3[1]]\n",
    "    \n",
    "    Py1 = [pos[2] for pos in Cuerpo1[1]] \n",
    "    Py2 = [pos[2] for pos in Cuerpo2[1]]\n",
    "    Py3 = [pos[2] for pos in Cuerpo3[1]]\n",
    "\n",
    "    Pz1 = [pos[3] for pos in Cuerpo1[1]] \n",
    "    Pz2 = [pos[3] for pos in Cuerpo2[1]]\n",
    "    Pz3 = [pos[3] for pos in Cuerpo3[1]]\n",
    "    \n",
    "    Energia_3(Cuerpo1, Cuerpo2, Cuerpo3, [MasaSol, MasaTierra, MasaLuna]) \n",
    "    c_par = [ones(Py3)*par[i]]\n",
    "    o = paleta_luna[length(paleta_luna)-i+1]\n",
    "    rgb_o = [comp1(o), comp2(o), comp3(o)]\n",
    "    \n",
    "    p1=scatter(Px1, Py1, marker=\".\", s=0.6, color = \"red\", label=\"Sol\")\n",
    "    p2=scatter(Px2, Py2, linestyle=\"-\", marker=\".\", s=0.4, color = \"blue\", label=\"Tierra\")\n",
    "    p3=scatter(Px3, Py3, c=c_par, color=rgb_o, marker=\".\", s=1.5, label=\"Luna\")\n",
    "    \n",
    "    #show()\n",
    "\n",
    "end\n",
    "\n",
    "cb = colorbar()\n",
    "cb[:\"set_label\"](\"Velocidad Inicial\")"
   ]
  },
  {
   "cell_type": "markdown",
   "metadata": {},
   "source": [
    "Gráfico en donde vemos que existen valores para los que el satélite escapa, especialmente para valores negativos.\n",
    "Nos restringimos a valores positivos..."
   ]
  },
  {
   "cell_type": "code",
   "execution_count": null,
   "metadata": {
    "collapsed": false,
    "scrolled": false
   },
   "outputs": [],
   "source": [
    "par = [1.0:-0.01:0.0]\n",
    "paleta_luna = colormap(\"RdBu\", length(par))\n",
    "\n",
    "fig = figure(\"Title of Window\",figsize=(10,10))\n",
    "for i in 1:length(par)\n",
    "    \n",
    "    CondicionesLuna = iniciar(MasaLuna, PosicionInicialLuna, [0., VelocidadTraslacional_TierraSol+par[i], 0.])\n",
    "    CondicionesIniciales = CalculaCM(CondicionesTierra, CondicionesLuna, MasaSol)\n",
    "    t, Cuerpo1, Cuerpo2, Cuerpo3 = Integrador3(CondicionesIniciales, 300.)\n",
    "    \n",
    "    Px1 = [pos[1] for pos in Cuerpo1[1]] \n",
    "    Px2 = [pos[1] for pos in Cuerpo2[1]]\n",
    "    Px3 = [pos[1] for pos in Cuerpo3[1]]\n",
    "    \n",
    "    Py1 = [pos[2] for pos in Cuerpo1[1]] \n",
    "    Py2 = [pos[2] for pos in Cuerpo2[1]]\n",
    "    Py3 = [pos[2] for pos in Cuerpo3[1]]\n",
    "\n",
    "    Pz1 = [pos[3] for pos in Cuerpo1[1]] \n",
    "    Pz2 = [pos[3] for pos in Cuerpo2[1]]\n",
    "    Pz3 = [pos[3] for pos in Cuerpo3[1]]\n",
    "    \n",
    "    Energia_3(Cuerpo1, Cuerpo2, Cuerpo3, [MasaSol, MasaTierra, MasaLuna]) \n",
    "    c_par = [ones(Py3)*par[i]]\n",
    "    o = paleta_luna[length(paleta_luna)-i+1]\n",
    "    rgb_o = [comp1(o), comp2(o), comp3(o)]\n",
    "    \n",
    "    p1=scatter(Px1, Py1, marker=\".\", s=0.6, color = \"red\", label=\"Sol\")\n",
    "    p2=scatter(Px2, Py2,   marker=\".\", s=0.4, color = \"blue\", label=\"Tierra\")\n",
    "    p3=scatter(Px3, Py3, c=c_par, color=rgb_o, marker=\".\", s=1.5, label=\"Luna\")\n",
    "    \n",
    "    #show()\n",
    "\n",
    "end\n",
    "\n",
    "cb = colorbar()\n",
    "cb[:\"set_label\"](\"Velocidad Inicial\")"
   ]
  },
  {
   "cell_type": "markdown",
   "metadata": {},
   "source": [
    "Hacemos un refinamiento..."
   ]
  },
  {
   "cell_type": "code",
   "execution_count": null,
   "metadata": {
    "collapsed": false
   },
   "outputs": [],
   "source": [
    "par = [0.5:-0.01:0.0]\n",
    "paleta_luna = colormap(\"RdBu\", length(par))\n",
    "\n",
    "fig = figure(\"Title of Window\",figsize=(10,10))\n",
    "for i in 1:length(par)\n",
    "    \n",
    "    CondicionesLuna = iniciar(MasaLuna, PosicionInicialLuna, [0., VelocidadTraslacional_TierraSol+par[i], 0.])\n",
    "    CondicionesIniciales = CalculaCM(CondicionesTierra, CondicionesLuna, MasaSol)\n",
    "    t, Cuerpo1, Cuerpo2, Cuerpo3 = Integrador3(CondicionesIniciales, 1000.)\n",
    "    \n",
    "    Px1 = [pos[1] for pos in Cuerpo1[1]] \n",
    "    Px2 = [pos[1] for pos in Cuerpo2[1]]\n",
    "    Px3 = [pos[1] for pos in Cuerpo3[1]]\n",
    "    \n",
    "    Py1 = [pos[2] for pos in Cuerpo1[1]] \n",
    "    Py2 = [pos[2] for pos in Cuerpo2[1]]\n",
    "    Py3 = [pos[2] for pos in Cuerpo3[1]]\n",
    "\n",
    "    Pz1 = [pos[3] for pos in Cuerpo1[1]] \n",
    "    Pz2 = [pos[3] for pos in Cuerpo2[1]]\n",
    "    Pz3 = [pos[3] for pos in Cuerpo3[1]]\n",
    "    \n",
    "    Energia_3(Cuerpo1, Cuerpo2, Cuerpo3, [MasaSol, MasaTierra, MasaLuna]) \n",
    "    c_par = [ones(Py3)*par[i]]\n",
    "    o = paleta_luna[length(paleta_luna)-i+1]\n",
    "    rgb_o = [comp1(o), comp2(o), comp3(o)]\n",
    "    \n",
    "    p1=scatter(Px1, Py1, marker=\".\", s=0.6, color = \"red\", label=\"Sol\")\n",
    "    p2=scatter(Px2, Py2,   marker=\".\", s=0.4, color = \"blue\", label=\"Tierra\")\n",
    "    p3=scatter(Px3, Py3, c=c_par, color=rgb_o, marker=\".\", s=1.5, label=\"Luna\")\n",
    "    \n",
    "    #show()\n",
    "\n",
    "end\n",
    "\n",
    "cb = colorbar()\n",
    "cb[:\"set_label\"](\"Velocidad Inicial\")"
   ]
  },
  {
   "cell_type": "markdown",
   "metadata": {},
   "source": [
    "Y observamos que para ciertos valores del parámetro inicial, las posiciones se concentran.\n",
    "Hacemos un refinamiento más."
   ]
  },
  {
   "cell_type": "code",
   "execution_count": null,
   "metadata": {
    "collapsed": false
   },
   "outputs": [],
   "source": [
    "par = [1.0:-0.01:0.5]\n",
    "paleta_luna = colormap(\"RdBu\", length(par))\n",
    "\n",
    "fig = figure(\"Title of Window\",figsize=(10,10))\n",
    "for i in 1:length(par)\n",
    "    \n",
    "    CondicionesLuna = iniciar(MasaLuna, PosicionInicialLuna, [0., VelocidadTraslacional_TierraSol+par[i], 0.])\n",
    "    CondicionesIniciales = CalculaCM(CondicionesTierra, CondicionesLuna, MasaSol)\n",
    "    t, Cuerpo1, Cuerpo2, Cuerpo3 = Integrador3(CondicionesIniciales, 1000.)\n",
    "    \n",
    "    Px1 = [pos[1] for pos in Cuerpo1[1]] \n",
    "    Px2 = [pos[1] for pos in Cuerpo2[1]]\n",
    "    Px3 = [pos[1] for pos in Cuerpo3[1]]\n",
    "    \n",
    "    Py1 = [pos[2] for pos in Cuerpo1[1]] \n",
    "    Py2 = [pos[2] for pos in Cuerpo2[1]]\n",
    "    Py3 = [pos[2] for pos in Cuerpo3[1]]\n",
    "\n",
    "    Pz1 = [pos[3] for pos in Cuerpo1[1]] \n",
    "    Pz2 = [pos[3] for pos in Cuerpo2[1]]\n",
    "    Pz3 = [pos[3] for pos in Cuerpo3[1]]\n",
    "    \n",
    "    Energia_3(Cuerpo1, Cuerpo2, Cuerpo3, [MasaSol, MasaTierra, MasaLuna]) \n",
    "    c_par = [ones(Py3)*par[i]]\n",
    "    o = paleta_luna[length(paleta_luna)-i+1]\n",
    "    rgb_o = [comp1(o), comp2(o), comp3(o)]\n",
    "    \n",
    "    p1=scatter(Px1, Py1, marker=\".\", s=0.6, color = \"red\", label=\"Sol\")\n",
    "    p2=scatter(Px2, Py2,   marker=\".\", s=0.4, color = \"blue\", label=\"Tierra\")\n",
    "    p3=scatter(Px3, Py3, c=c_par, color=rgb_o, marker=\".\", s=1.5, label=\"Luna\")\n",
    "    \n",
    "    #show()\n",
    "\n",
    "end\n",
    "\n",
    "cb = colorbar()\n",
    "cb[:\"set_label\"](\"Velocidad Inicial\")"
   ]
  },
  {
   "cell_type": "markdown",
   "metadata": {},
   "source": [
    "No obtuvimos patrones muy distintos. Exploramos el resto del intervalo."
   ]
  },
  {
   "cell_type": "code",
   "execution_count": null,
   "metadata": {
    "collapsed": false
   },
   "outputs": [],
   "source": [
    "par = [1.5:-0.01:1.0]\n",
    "paleta_luna = colormap(\"RdBu\", length(par))\n",
    "\n",
    "fig = figure(\"Title of Window\",figsize=(10,10))\n",
    "for i in 1:length(par)\n",
    "    \n",
    "    CondicionesLuna = iniciar(MasaLuna, PosicionInicialLuna, [0., VelocidadTraslacional_TierraSol+par[i], 0.])\n",
    "    CondicionesIniciales = CalculaCM(CondicionesTierra, CondicionesLuna, MasaSol)\n",
    "    t, Cuerpo1, Cuerpo2, Cuerpo3 = Integrador3(CondicionesIniciales, 1000.)\n",
    "    \n",
    "    Px1 = [pos[1] for pos in Cuerpo1[1]] \n",
    "    Px2 = [pos[1] for pos in Cuerpo2[1]]\n",
    "    Px3 = [pos[1] for pos in Cuerpo3[1]]\n",
    "    \n",
    "    Py1 = [pos[2] for pos in Cuerpo1[1]] \n",
    "    Py2 = [pos[2] for pos in Cuerpo2[1]]\n",
    "    Py3 = [pos[2] for pos in Cuerpo3[1]]\n",
    "\n",
    "    Pz1 = [pos[3] for pos in Cuerpo1[1]] \n",
    "    Pz2 = [pos[3] for pos in Cuerpo2[1]]\n",
    "    Pz3 = [pos[3] for pos in Cuerpo3[1]]\n",
    "    \n",
    "    Energia_3(Cuerpo1, Cuerpo2, Cuerpo3, [MasaSol, MasaTierra, MasaLuna]) \n",
    "    c_par = [ones(Py3)*par[i]]\n",
    "    o = paleta_luna[length(paleta_luna)-i+1]\n",
    "    rgb_o = [comp1(o), comp2(o), comp3(o)]\n",
    "    \n",
    "    p1=scatter(Px1, Py1, marker=\".\", s=0.6, color = \"red\", label=\"Sol\")\n",
    "    p2=scatter(Px2, Py2,   marker=\".\", s=0.4, color = \"blue\", label=\"Tierra\")\n",
    "    p3=scatter(Px3, Py3, c=c_par, color=rgb_o, marker=\".\", s=1.5, label=\"Luna\")\n",
    "    \n",
    "    #show()\n",
    "\n",
    "end\n",
    "\n",
    "cb = colorbar()\n",
    "cb[:\"set_label\"](\"Velocidad Inicial\")"
   ]
  },
  {
   "cell_type": "markdown",
   "metadata": {},
   "source": [
    "Aparecen ciertos patrones repetitivos que asociamos con la presencia de órbitas semi-periódicas.\n",
    "Realizamos un nuevo refinamiento, entre 1.8 y 1.70."
   ]
  },
  {
   "cell_type": "code",
   "execution_count": null,
   "metadata": {
    "collapsed": false
   },
   "outputs": [],
   "source": [
    "par = [1.8:-0.001:1.70]\n",
    "paleta_luna = colormap(\"RdBu\", length(par))\n",
    "\n",
    "fig = figure(\"Title of Window\",figsize=(10,10))\n",
    "for i in 1:length(par)\n",
    "    \n",
    "    CondicionesLuna = iniciar(MasaLuna, PosicionInicialLuna, [0., VelocidadTraslacional_TierraSol+par[i], 0.])\n",
    "    CondicionesIniciales = CalculaCM(CondicionesTierra, CondicionesLuna, MasaSol)\n",
    "    t, Cuerpo1, Cuerpo2, Cuerpo3 = Integrador3(CondicionesIniciales, 1000.)\n",
    "    \n",
    "    Px1 = [pos[1] for pos in Cuerpo1[1]] \n",
    "    Px2 = [pos[1] for pos in Cuerpo2[1]]\n",
    "    Px3 = [pos[1] for pos in Cuerpo3[1]]\n",
    "    \n",
    "    Py1 = [pos[2] for pos in Cuerpo1[1]] \n",
    "    Py2 = [pos[2] for pos in Cuerpo2[1]]\n",
    "    Py3 = [pos[2] for pos in Cuerpo3[1]]\n",
    "\n",
    "    Pz1 = [pos[3] for pos in Cuerpo1[1]] \n",
    "    Pz2 = [pos[3] for pos in Cuerpo2[1]]\n",
    "    Pz3 = [pos[3] for pos in Cuerpo3[1]]\n",
    "    \n",
    "    Energia_3(Cuerpo1, Cuerpo2, Cuerpo3, [MasaSol, MasaTierra, MasaLuna]) \n",
    "    c_par = [ones(Py3)*par[i]]\n",
    "    o = paleta_luna[length(paleta_luna)-i+1]\n",
    "    rgb_o = [comp1(o), comp2(o), comp3(o)]\n",
    "    \n",
    "    p1=scatter(Px1, Py1, marker=\".\", s=0.6, color = \"red\", label=\"Sol\")\n",
    "    p2=scatter(Px2, Py2,   marker=\".\", s=0.4, color = \"blue\", label=\"Tierra\")\n",
    "    p3=scatter(Px3, Py3, c=c_par, color=rgb_o, marker=\".\", s=1.5, label=\"Luna\")\n",
    "    \n",
    "    #show()\n",
    "\n",
    "end\n",
    "\n",
    "cb = colorbar()\n",
    "cb[:\"set_label\"](\"Velocidad Inicial\")"
   ]
  },
  {
   "cell_type": "markdown",
   "metadata": {},
   "source": [
    "Esta característica se hace más evidente."
   ]
  },
  {
   "cell_type": "code",
   "execution_count": null,
   "metadata": {
    "collapsed": false
   },
   "outputs": [],
   "source": [
    "par = [1.865:-0.0005:1.86]\n",
    "paleta_luna = colormap(\"RdBu\", length(par))\n",
    "\n",
    "fig = figure(\"Title of Window\",figsize=(10,10))\n",
    "for i in 1:length(par)\n",
    "    \n",
    "    CondicionesLuna = iniciar(MasaLuna, PosicionInicialLuna, [0., VelocidadTraslacional_TierraSol+par[i], 0.])\n",
    "    CondicionesIniciales = CalculaCM(CondicionesTierra, CondicionesLuna, MasaSol)\n",
    "    t, Cuerpo1, Cuerpo2, Cuerpo3 = Integrador3(CondicionesIniciales, 2000.)\n",
    "    \n",
    "    Px1 = [pos[1] for pos in Cuerpo1[1]] \n",
    "    Px2 = [pos[1] for pos in Cuerpo2[1]]\n",
    "    Px3 = [pos[1] for pos in Cuerpo3[1]]\n",
    "    \n",
    "    Py1 = [pos[2] for pos in Cuerpo1[1]] \n",
    "    Py2 = [pos[2] for pos in Cuerpo2[1]]\n",
    "    Py3 = [pos[2] for pos in Cuerpo3[1]]\n",
    "\n",
    "    Pz1 = [pos[3] for pos in Cuerpo1[1]] \n",
    "    Pz2 = [pos[3] for pos in Cuerpo2[1]]\n",
    "    Pz3 = [pos[3] for pos in Cuerpo3[1]]\n",
    "    \n",
    "    Energia_3(Cuerpo1, Cuerpo2, Cuerpo3, [MasaSol, MasaTierra, MasaLuna]) \n",
    "    c_par = [ones(Py3)*par[i]]\n",
    "    o = paleta_luna[length(paleta_luna)-i+1]\n",
    "    rgb_o = [comp1(o), comp2(o), comp3(o)]\n",
    "    \n",
    "    p1=scatter(Px1, Py1, marker=\".\", s=0.6, color = \"red\", label=\"Sol\")\n",
    "    p2=scatter(Px2, Py2,   marker=\".\", s=0.4, color = \"blue\", label=\"Tierra\")\n",
    "    p3=scatter(Px3, Py3, c=c_par, color=rgb_o, marker=\".\", s=1.5, label=\"Luna\")\n",
    "    \n",
    "    #show()\n",
    "\n",
    "end\n",
    "\n",
    "cb = colorbar()\n",
    "cb[:\"set_label\"](\"Velocidad Inicial\")"
   ]
  },
  {
   "cell_type": "markdown",
   "metadata": {},
   "source": [
    "Para una velocidad iniciar de 1.865, parece completarse una onda cuasi-periòdica."
   ]
  },
  {
   "cell_type": "code",
   "execution_count": null,
   "metadata": {
    "collapsed": false,
    "scrolled": false
   },
   "outputs": [],
   "source": [
    "par = [1.5:-0.01:0.5]\n",
    "paleta_luna = colormap(\"RdBu\", length(par))\n",
    "\n",
    "fig = figure(\"Title of Window\",figsize=(10,10))\n",
    "for i in 1:length(par)\n",
    "    \n",
    "    CondicionesLuna = iniciar(MasaLuna, PosicionInicialLuna, [0., VelocidadTraslacional_TierraSol+par[i], 0.])\n",
    "    CondicionesIniciales = CalculaCM(CondicionesTierra, CondicionesLuna, MasaSol)\n",
    "    t, Cuerpo1, Cuerpo2, Cuerpo3 = Integrador3(CondicionesIniciales, 1000.)\n",
    "    \n",
    "    Px1 = [pos[1] for pos in Cuerpo1[1]] \n",
    "    Px2 = [pos[1] for pos in Cuerpo2[1]]\n",
    "    Px3 = [pos[1] for pos in Cuerpo3[1]]\n",
    "    \n",
    "    Py1 = [pos[2] for pos in Cuerpo1[1]] \n",
    "    Py2 = [pos[2] for pos in Cuerpo2[1]]\n",
    "    Py3 = [pos[2] for pos in Cuerpo3[1]]\n",
    "\n",
    "    Pz1 = [pos[3] for pos in Cuerpo1[1]] \n",
    "    Pz2 = [pos[3] for pos in Cuerpo2[1]]\n",
    "    Pz3 = [pos[3] for pos in Cuerpo3[1]]\n",
    "    \n",
    "    e=Energia_3(Cuerpo1, Cuerpo2, Cuerpo3, [MasaSol, MasaTierra, MasaLuna]) \n",
    "    c_par = [ones(Py3)*par[i]]\n",
    "    o = paleta_luna[length(paleta_luna)-i+1]\n",
    "    rgb_o = [comp1(o), comp2(o), comp3(o)]\n",
    "    \n",
    "    p1=scatter(Px1, Py1, marker=\".\", s=0.6, color = \"red\", label=\"Sol\")\n",
    "    p2=scatter(Px2, Py2,   marker=\".\", s=0.4, color = \"blue\", label=\"Tierra\")\n",
    "    p3=scatter(Px3, Py3, c=c_par, color=rgb_o, marker=\".\", s=1.5, label=\"Luna\")\n",
    "    \n",
    "    #show()\n",
    "\n",
    "end\n",
    "\n",
    "cb = colorbar()\n",
    "cb[:\"set_label\"](\"Velocidad Inicial\")"
   ]
  }
 ],
 "metadata": {
  "kernelspec": {
   "display_name": "Julia 0.4.5",
   "language": "julia",
   "name": "julia-0.4"
  },
  "language_info": {
   "file_extension": ".jl",
   "mimetype": "application/julia",
   "name": "julia",
   "version": "0.4.5"
  }
 },
 "nbformat": 4,
 "nbformat_minor": 0
}
